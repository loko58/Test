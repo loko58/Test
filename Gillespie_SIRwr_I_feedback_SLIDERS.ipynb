{
 "cells": [
  {
   "cell_type": "code",
   "execution_count": null,
   "metadata": {},
   "outputs": [],
   "source": []
  },
  {
   "cell_type": "code",
   "execution_count": null,
   "metadata": {},
   "outputs": [],
   "source": []
  },
  {
   "cell_type": "code",
   "execution_count": null,
   "metadata": {},
   "outputs": [],
   "source": []
  },
  {
   "cell_type": "code",
   "execution_count": null,
   "metadata": {},
   "outputs": [],
   "source": []
  },
  {
   "cell_type": "code",
   "execution_count": null,
   "metadata": {},
   "outputs": [],
   "source": []
  },
  {
   "cell_type": "code",
   "execution_count": null,
   "metadata": {},
   "outputs": [],
   "source": []
  },
  {
   "cell_type": "code",
   "execution_count": null,
   "metadata": {},
   "outputs": [],
   "source": []
  },
  {
   "cell_type": "code",
   "execution_count": null,
   "metadata": {},
   "outputs": [],
   "source": []
  },
  {
   "cell_type": "code",
   "execution_count": null,
   "metadata": {},
   "outputs": [],
   "source": []
  },
  {
   "cell_type": "code",
   "execution_count": null,
   "metadata": {},
   "outputs": [],
   "source": []
  },
  {
   "cell_type": "code",
   "execution_count": null,
   "metadata": {},
   "outputs": [],
   "source": []
  },
  {
   "cell_type": "code",
   "execution_count": null,
   "metadata": {},
   "outputs": [],
   "source": []
  },
  {
   "cell_type": "code",
   "execution_count": null,
   "metadata": {},
   "outputs": [],
   "source": []
  },
  {
   "cell_type": "code",
   "execution_count": null,
   "metadata": {},
   "outputs": [],
   "source": []
  },
  {
   "cell_type": "markdown",
   "metadata": {},
   "source": [
    "__Definitions:__\n",
    "<br>\n",
    "\n",
    "|Variable | Meaning                                                 |\n",
    "|---------|---------------------------------------------------------|\n",
    "|$W$:     | susceptible and wise                                    |\n",
    "|$R$:     | susceptible and risky                                   |\n",
    "|$I$:     | infectious                                              |\n",
    "|$D$:     | dead                                                    |\n",
    "|$S$:     | individuals recovered and who can no longer be infected |"
   ]
  },
  {
   "cell_type": "markdown",
   "metadata": {},
   "source": [
    "__Reactions:__\n",
    "<br>\n",
    "$$\n",
    "\\begin{align}\n",
    "    W &\\rightarrow^a R &&\\\\\n",
    "    R &\\rightarrow^{\\alpha} W&&\\\\\n",
    "    R + I &\\rightarrow^c I + I&&\\\\\n",
    "    W + I &\\rightarrow^b I + I&&\\\\\n",
    "    R + I &\\rightarrow^f W + I &&\\text{(if a risky encounters a (known) infected, it gets wise! - David's idea)}\\\\\n",
    "    I &\\rightarrow^{\\beta} W &&\\text{(if you were infected and then cured, you get wise!😁)}\\\\\n",
    "    I &\\rightarrow^d D&&\\\\\n",
    "    I &\\rightarrow^{\\rho} S&&\n",
    "\\end{align}\n",
    "$$"
   ]
  },
  {
   "cell_type": "code",
   "execution_count": 1,
   "metadata": {},
   "outputs": [],
   "source": [
    "import numpy as np\n",
    "\n",
    "import matplotlib.pyplot as plt\n",
    "\n",
    "import ipywidgets as wgs\n",
    "from ipywidgets import interact\n",
    "from IPython.display import display"
   ]
  },
  {
   "cell_type": "code",
   "execution_count": 2,
   "metadata": {},
   "outputs": [],
   "source": [
    "## Input parameters ####################\n",
    "#N =  200   # total population\n",
    "#t =    0.0 # start time\n",
    "#T = 1000.0 # maximum elapsed time\n",
    "#\n",
    "## Initial conditions on Infectious, Dead, Saved, Risky and Wise people \n",
    "#n_I = 1\n",
    "#n_D = 0\n",
    "#n_S = 0\n",
    "#n_R = 100\n",
    "#n_W = N - n_I - n_R\n",
    "#\n",
    "## Rates\n",
    "#WtoR   = 0.5    # rate of wise to risky\n",
    "#RtoW   = 0.03   # rate of risky to wise\n",
    "#RItoII = 0.01   # rate of risky to infected\n",
    "#WItoII = 0.001  # rate of wise to infected\n",
    "#RItoWI = 0.001  # rate of risky gets wise by encountering infected\n",
    "#ItoW   = 0.2    # rate of infected to cured (and wise)\n",
    "#ItoD   = 0.08   # rate of infected to deceased \n",
    "#ItoS   = 0.1    # rate of infected to recovered (and immune)\n",
    "#\n",
    "## For algorithm\n",
    "#seed = 42"
   ]
  },
  {
   "cell_type": "code",
   "execution_count": 98,
   "metadata": {},
   "outputs": [],
   "source": [
    "def GillespieSIRwr(N = 200, n_R = 100,\n",
    "                   WtoR = 0.5, RtoW = 0.03, RItoII = 0.01, WItoII = 0.001, RItoWI = 0.000, ItoW = 0.2, ItoD = 0.08, ItoS = 0.1,\n",
    "                   rdt = 0.,\n",
    "                   seed = 42):\n",
    "    # Inital values (non-interactive)\n",
    "    t   =    0.0\n",
    "    T   = 1000.0\n",
    "    rt  = t\n",
    "    \n",
    "    # Initial conditions on Infectious, Dead, Saved, Risky and Wise people \n",
    "    n_I  = 1\n",
    "    n_D  = 0\n",
    "    n_S  = 0\n",
    "    n_rI = 0 # Reporting \"misses\" the first infected\n",
    "    n_W  = N - n_I - n_R\n",
    "\n",
    "    # Vectors for plotting\n",
    "    time  = []\n",
    "    rtime = [rt] # Time scale for reporting number of infected\n",
    "    nR    = []\n",
    "    nI    = []\n",
    "    nrI   = [n_rI] # Number of reported infected\n",
    "    nW    = []\n",
    "    nD    = []\n",
    "    nS    = []\n",
    "\n",
    "    # Random Generator\n",
    "    rg = np.random.RandomState(seed)\n",
    "\n",
    "    # Main loop\n",
    "    while t < T:\n",
    "        if n_I == 0:\n",
    "            break\n",
    "        # Rates calculation\n",
    "        w1  = WtoR/(n_rI+1) * n_W # Modified reaction taking account of the varietion of infection n_I\n",
    "        w2  = RtoW         * n_R\n",
    "        w3  = RItoII       * n_I * n_R\n",
    "        w4  = WItoII       * n_I * n_W\n",
    "        w5  = RItoWI       * n_I * n_R\n",
    "        w6  = ItoW         * n_I\n",
    "        w7  = ItoD         * n_I\n",
    "        w8  = ItoS         * n_I\n",
    "\n",
    "        W   = w1 + w2 + w3 + w4 + w5 + w6 + w7 + w8\n",
    "        # First uniformily distributed ranmdom number\n",
    "        r1  = rg.uniform(0.0, 1.0)\n",
    "        # Time increment\n",
    "        tau = -np.log(r1) / W\n",
    "        t   = t + tau\n",
    "\n",
    "        \n",
    "        # Second uniformily distributed ranmdom number\n",
    "        r2 = rg.uniform(0.0, 1.0)\n",
    "        # Choice of the reaction according to the probabilities\n",
    "        if r2 < w1 / W:\n",
    "            n_W = n_W - 1\n",
    "            n_R = n_R + 1\n",
    "        if r2>=w1/W and r2 < (w1+w2) / W:\n",
    "            n_R = n_R - 1\n",
    "            n_W = n_W + 1\n",
    "        if r2>=(w1+w2)/W and r2 < (w1+w2+w3)/W:\n",
    "            n_R = n_R - 1\n",
    "            n_I = n_I + 1\n",
    "        if r2>=(w1+w2+w3)/W and r2 < (w1+w2+w3+w4)/W:\n",
    "            n_W = n_W - 1\n",
    "            n_I = n_I + 1\n",
    "        if r2>=(w1+w2+w3+w4)/W and r2 < (w1+w2+w3+w4+w5)/W:\n",
    "            n_R = n_R - 1\n",
    "            n_W = n_W + 1\n",
    "        if r2>=(w1+w2+w3+w4+w5)/W and r2 < (w1+w2+w3+w4+w5+w6)/W:\n",
    "            n_I = n_I - 1\n",
    "            n_W = n_W + 1\n",
    "        if r2>=(w1+w2+w3+w4+w5+w6)/W and r2< (w1+w2+w3+w4+w5+w6+w7)/W:\n",
    "            n_I = n_I - 1\n",
    "            n_D = n_D + 1\n",
    "        if r2 >(w1+w2+w3+w4+w5+w6+w7)/W:\n",
    "            n_I = n_I - 1\n",
    "            n_S = n_S + 1\n",
    "            \n",
    "        # Update report of number of infected\n",
    "        if rdt != 0. and t//rdt != rt:\n",
    "            rt = t//rdt\n",
    "            n_rI = n_I\n",
    "            rtime.append(t)\n",
    "            nrI.append(n_rI)\n",
    "        if rdt == 0.:\n",
    "            rt = t\n",
    "            n_rI = n_I\n",
    "            rtime.append(t)\n",
    "            nrI.append(n_rI)\n",
    "        \n",
    "        # Construction of vectors for plotting   \n",
    "        time.append(t)\n",
    "        nW.append(n_W)\n",
    "        nI.append(n_I)\n",
    "        nR.append(n_R)\n",
    "        nS.append(n_S)\n",
    "        nD.append(n_D)\n",
    "\n",
    "    # Plotting\n",
    "    fig, ax = plt.subplots(figsize=(20,10))\n",
    "\n",
    "    line1, = ax.step(time,  nW,  where='post', linewidth=3, color=\"tab:green\",  zorder=3, label=r'nW$_{ise}$')\n",
    "    line2, = ax.step(time,  nI,  where='post', linewidth=3, color=\"tab:orange\", zorder=2, label=r'nI$_{nfectious}$')\n",
    "    line3, = ax.step(time,  nR,  where='post', linewidth=3, color=\"tab:red\",    zorder=3, label=r'nR$_{isky}$')\n",
    "    line4, = ax.step(time,  nS,  where='post', linewidth=2, color=\"tab:blue\",   zorder=1, label=r'nS$_{aved}$', alpha=0.2)\n",
    "    line5, = ax.step(time,  nD,  where='post', linewidth=2, color=\"black\",      zorder=1, label=r'nD$_{ead}$',  alpha=0.2)\n",
    "    line6, = ax.step(rtime, nrI, ':', where='post', linewidth=2, color=\"tab:orange\", zorder=3, label=r'nr$_{reported}$I$_{nfectious}$')\n",
    "\n",
    "    legend = ax.legend(loc='best', shadow=True, fontsize='x-large')\n",
    "    plt.title('Simulation of SIR_wr model')\n",
    "    plt.xlabel('Time')\n",
    "    plt.ylabel('Individuals')\n",
    "    #plt.ylim((0,N))\n",
    "    \n",
    "    plt.show();"
   ]
  },
  {
   "cell_type": "markdown",
   "metadata": {},
   "source": [
    "## Sliders etc."
   ]
  },
  {
   "cell_type": "code",
   "execution_count": 99,
   "metadata": {
    "scrolled": false
   },
   "outputs": [
    {
     "data": {
      "application/vnd.jupyter.widget-view+json": {
       "model_id": "cc53afdb2e1d4a3d82e0b48f1b0ff958",
       "version_major": 2,
       "version_minor": 0
      },
      "text/plain": [
       "HBox(children=(VBox(children=(Label(value='Basic Settings:'), IntSlider(value=200, continuous_update=False, de…"
      ]
     },
     "metadata": {},
     "output_type": "display_data"
    },
    {
     "data": {
      "application/vnd.jupyter.widget-view+json": {
       "model_id": "e6c805a9314b4703acf7cd2fdc5d4619",
       "version_major": 2,
       "version_minor": 0
      },
      "text/plain": [
       "Output()"
      ]
     },
     "metadata": {},
     "output_type": "display_data"
    }
   ],
   "source": [
    "sN      = wgs.IntSlider(min=0, max=1000, step=10, value=200, continuous_update=False, description=r\"N :\")\n",
    "sn_R    = wgs.IntSlider(min=0, max=1000, step=10, value=100, continuous_update=False, description=r\"n_R :\")\n",
    "\n",
    "sWtoR   = wgs.FloatSlider(min=0., max=1., step=0.001, value=0.500, continuous_update=False, readout_format='.3f', description=r\"W   $\\rightarrow$ R  :\")\n",
    "sRtoW   = wgs.FloatSlider(min=0., max=1., step=0.001, value=0.030, continuous_update=False, readout_format='.3f', description=r\"R   $\\rightarrow$ W  :\")\n",
    "sRItoII = wgs.FloatSlider(min=0., max=1., step=0.001, value=0.010, continuous_update=False, readout_format='.3f', description=r\"R+I $\\rightarrow$ I+I:\")\n",
    "sWItoII = wgs.FloatSlider(min=0., max=1., step=0.001, value=0.001, continuous_update=False, readout_format='.3f', description=r\"W+I $\\rightarrow$ I+I:\")\n",
    "sRItoWI = wgs.FloatSlider(min=0., max=1., step=0.001, value=0.000, continuous_update=False, readout_format='.3f', description=r\"R+I $\\rightarrow$ W+I:\")\n",
    "sItoW   = wgs.FloatSlider(min=0., max=1., step=0.001, value=0.200, continuous_update=False, readout_format='.3f', description=r\"I   $\\rightarrow$ W  :\")\n",
    "sItoD   = wgs.FloatSlider(min=0., max=1., step=0.001, value=0.080, continuous_update=False, readout_format='.3f', description=r\"I   $\\rightarrow$ D  :\")\n",
    "sItoS   = wgs.FloatSlider(min=0., max=1., step=0.001, value=0.100, continuous_update=False, readout_format='.3f', description=r\"I   $\\rightarrow$ S  :\")\n",
    "\n",
    "srdt    = wgs.FloatSlider(min=0., max=10., step=1.0,  value=0.000, continuous_update=False, readout_format='.1f', description=r\"rdt :\")\n",
    "\n",
    "\n",
    "sseed   = wgs.IntSlider(min=0, max=100, step=1, value=42, continuous_update=False, description=\"seed\")\n",
    "\n",
    "uiBasic = wgs.VBox([wgs.Label(r\"Basic Settings:\"), sN, sn_R, wgs.Label(\"\"), wgs.Label(r\"Reporting interval:\"), srdt, wgs.Label(\"\"), wgs.Label(r\"Algorithm:\"), sseed]) \n",
    "uiRates = wgs.VBox([wgs.Label(r\"Rates:\"), sWtoR, sRtoW, sRItoII, sWItoII, sRItoWI, sItoW, sItoD, sItoS]) \n",
    "ui      = wgs.HBox([uiBasic, uiRates])\n",
    "\n",
    "controls ={\"N\": sN, \"n_R\": sn_R,\n",
    "           \"WtoR\": sWtoR, \"RtoW\": sRtoW, \"RItoII\": sRItoII, \"WItoII\": sWItoII, \"RItoWI\": sRItoWI, \"ItoW\": sItoW, \"ItoD\": sItoD, \"ItoS\": sItoS,\n",
    "           \"rdt\": srdt, \n",
    "           \"seed\": sseed}\n",
    "\n",
    "out = wgs.interactive_output(GillespieSIRwr, controls)\n",
    "display(ui, out)"
   ]
  },
  {
   "cell_type": "code",
   "execution_count": null,
   "metadata": {},
   "outputs": [],
   "source": []
  },
  {
   "cell_type": "code",
   "execution_count": null,
   "metadata": {},
   "outputs": [],
   "source": []
  },
  {
   "cell_type": "code",
   "execution_count": null,
   "metadata": {},
   "outputs": [],
   "source": []
  }
 ],
 "metadata": {
  "kernelspec": {
   "display_name": "Python 3",
   "language": "python",
   "name": "python3"
  },
  "language_info": {
   "codemirror_mode": {
    "name": "ipython",
    "version": 3
   },
   "file_extension": ".py",
   "mimetype": "text/x-python",
   "name": "python",
   "nbconvert_exporter": "python",
   "pygments_lexer": "ipython3",
   "version": "3.7.4"
  }
 },
 "nbformat": 4,
 "nbformat_minor": 4
}
